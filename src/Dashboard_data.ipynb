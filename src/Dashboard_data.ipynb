{
 "cells": [
  {
   "cell_type": "code",
   "id": "initial_id",
   "metadata": {
    "collapsed": true,
    "ExecuteTime": {
     "end_time": "2025-05-08T02:25:03.147567Z",
     "start_time": "2025-05-08T02:25:03.142445Z"
    }
   },
   "source": [
    "import pandas as pd\n",
    "import geopandas as gpd"
   ],
   "outputs": [],
   "execution_count": 41
  },
  {
   "metadata": {
    "ExecuteTime": {
     "end_time": "2025-05-08T02:25:03.178357Z",
     "start_time": "2025-05-08T02:25:03.162542Z"
    }
   },
   "cell_type": "code",
   "source": [
    "data = pd.read_csv(\"../data/interim/housing_data.csv\")\n",
    "key = pd.read_csv(\"../data/processed/Neighborhood_alt_key.csv\")\n",
    "key.set_index(\"alt_names_list\",inplace=True)"
   ],
   "id": "77661bf565e79f6a",
   "outputs": [],
   "execution_count": 42
  },
  {
   "metadata": {
    "ExecuteTime": {
     "end_time": "2025-05-08T02:25:03.209198Z",
     "start_time": "2025-05-08T02:25:03.194791Z"
    }
   },
   "cell_type": "code",
   "source": [
    "columns =[\"Neighborhood_Name\",\"Renter_housing_units_with_gross_rent\",\"Gross_Rent_Less_Than_$500\",\"Gross_Rent_$500-$999\",\"Gross_Rent_$1,000-$1,499\",\"Gross_Rent_$1,500-$1,999\",\"Gross_Rent_$2,000-$2,499\",\"Gross_Rent_$2,500-$2,999\",\"Gross_Rent_$3,000-$3,499\",\"Gross_Rent_$3,500_or_more\",\"Owner_housing_units_with_a_mortgage\",\"Owner_Costs_Less_Than_$1,000\",\"Owner_Costs_$1,000-$1,499\",\"Owner_Costs_$1,500-$1,999\",\"Owner_Costs_$2,000-$2,499\",\"Owner_Costs_$2,500-$2,999\",\"Owner_Costs_$3,000-$3,499\",\"Owner_Costs_$3,500-$3,999\",\t\"Owner_Costs_$4,000_or_more\"]\n",
    "costs = data[columns]\n",
    "costs['Neighborhood_Name'] = costs['Neighborhood_Name'].apply(lambda x: str(x).replace(\" \",\"\"))\n",
    "costs.head()"
   ],
   "id": "60c0406a66e69c86",
   "outputs": [
    {
     "name": "stderr",
     "output_type": "stream",
     "text": [
      "C:\\Users\\colin\\AppData\\Local\\Temp\\ipykernel_368260\\1431616706.py:3: SettingWithCopyWarning: \n",
      "A value is trying to be set on a copy of a slice from a DataFrame.\n",
      "Try using .loc[row_indexer,col_indexer] = value instead\n",
      "\n",
      "See the caveats in the documentation: https://pandas.pydata.org/pandas-docs/stable/user_guide/indexing.html#returning-a-view-versus-a-copy\n",
      "  costs['Neighborhood_Name'] = costs['Neighborhood_Name'].apply(lambda x: str(x).replace(\" \",\"\"))\n"
     ]
    },
    {
     "data": {
      "text/plain": [
       "  Neighborhood_Name  Renter_housing_units_with_gross_rent  \\\n",
       "0  CouncilDistrict1                                 19793   \n",
       "1  CouncilDistrict2                                 21623   \n",
       "2  CouncilDistrict3                                 38565   \n",
       "3  CouncilDistrict4                                 23153   \n",
       "4  CouncilDistrict5                                 23448   \n",
       "\n",
       "   Gross_Rent_Less_Than_$500  Gross_Rent_$500-$999  Gross_Rent_$1,000-$1,499  \\\n",
       "0                        961                   687                      4092   \n",
       "1                       2471                  2077                      4698   \n",
       "2                       1888                  1381                      5879   \n",
       "3                        324                  1067                      4767   \n",
       "4                       1268                   955                      4131   \n",
       "\n",
       "   Gross_Rent_$1,500-$1,999  Gross_Rent_$2,000-$2,499  \\\n",
       "0                      5159                      3772   \n",
       "1                      4503                      3565   \n",
       "2                     10768                      8432   \n",
       "3                      6043                      5524   \n",
       "4                      7763                      4862   \n",
       "\n",
       "   Gross_Rent_$2,500-$2,999  Gross_Rent_$3,000-$3,499  \\\n",
       "0                      2568                      1183   \n",
       "1                      2056                      1148   \n",
       "2                      5304                      2122   \n",
       "3                      2007                      1276   \n",
       "4                      1970                      1230   \n",
       "\n",
       "   Gross_Rent_$3,500_or_more  Owner_housing_units_with_a_mortgage  \\\n",
       "0                       1371                                21177   \n",
       "1                       1105                                14572   \n",
       "2                       2791                                14356   \n",
       "3                       2145                                12777   \n",
       "4                       1269                                16927   \n",
       "\n",
       "   Owner_Costs_Less_Than_$1,000  Owner_Costs_$1,000-$1,499  \\\n",
       "0                           225                        700   \n",
       "1                           212                        370   \n",
       "2                           335                        293   \n",
       "3                            67                        252   \n",
       "4                           130                        501   \n",
       "\n",
       "   Owner_Costs_$1,500-$1,999  Owner_Costs_$2,000-$2,499  \\\n",
       "0                       2397                       2529   \n",
       "1                       1700                       2311   \n",
       "2                        867                       1469   \n",
       "3                        721                       1165   \n",
       "4                       1419                       2661   \n",
       "\n",
       "   Owner_Costs_$2,500-$2,999  Owner_Costs_$3,000-$3,499  \\\n",
       "0                       3747                       3651   \n",
       "1                       2311                       2511   \n",
       "2                       1765                       1845   \n",
       "3                       1544                       1936   \n",
       "4                       3083                       2561   \n",
       "\n",
       "   Owner_Costs_$3,500-$3,999  Owner_Costs_$4,000_or_more  \n",
       "0                       2926                        5002  \n",
       "1                       1916                        3241  \n",
       "2                       1620                        6162  \n",
       "3                       1205                        5887  \n",
       "4                       1726                        4846  "
      ],
      "text/html": [
       "<div>\n",
       "<style scoped>\n",
       "    .dataframe tbody tr th:only-of-type {\n",
       "        vertical-align: middle;\n",
       "    }\n",
       "\n",
       "    .dataframe tbody tr th {\n",
       "        vertical-align: top;\n",
       "    }\n",
       "\n",
       "    .dataframe thead th {\n",
       "        text-align: right;\n",
       "    }\n",
       "</style>\n",
       "<table border=\"1\" class=\"dataframe\">\n",
       "  <thead>\n",
       "    <tr style=\"text-align: right;\">\n",
       "      <th></th>\n",
       "      <th>Neighborhood_Name</th>\n",
       "      <th>Renter_housing_units_with_gross_rent</th>\n",
       "      <th>Gross_Rent_Less_Than_$500</th>\n",
       "      <th>Gross_Rent_$500-$999</th>\n",
       "      <th>Gross_Rent_$1,000-$1,499</th>\n",
       "      <th>Gross_Rent_$1,500-$1,999</th>\n",
       "      <th>Gross_Rent_$2,000-$2,499</th>\n",
       "      <th>Gross_Rent_$2,500-$2,999</th>\n",
       "      <th>Gross_Rent_$3,000-$3,499</th>\n",
       "      <th>Gross_Rent_$3,500_or_more</th>\n",
       "      <th>Owner_housing_units_with_a_mortgage</th>\n",
       "      <th>Owner_Costs_Less_Than_$1,000</th>\n",
       "      <th>Owner_Costs_$1,000-$1,499</th>\n",
       "      <th>Owner_Costs_$1,500-$1,999</th>\n",
       "      <th>Owner_Costs_$2,000-$2,499</th>\n",
       "      <th>Owner_Costs_$2,500-$2,999</th>\n",
       "      <th>Owner_Costs_$3,000-$3,499</th>\n",
       "      <th>Owner_Costs_$3,500-$3,999</th>\n",
       "      <th>Owner_Costs_$4,000_or_more</th>\n",
       "    </tr>\n",
       "  </thead>\n",
       "  <tbody>\n",
       "    <tr>\n",
       "      <th>0</th>\n",
       "      <td>CouncilDistrict1</td>\n",
       "      <td>19793</td>\n",
       "      <td>961</td>\n",
       "      <td>687</td>\n",
       "      <td>4092</td>\n",
       "      <td>5159</td>\n",
       "      <td>3772</td>\n",
       "      <td>2568</td>\n",
       "      <td>1183</td>\n",
       "      <td>1371</td>\n",
       "      <td>21177</td>\n",
       "      <td>225</td>\n",
       "      <td>700</td>\n",
       "      <td>2397</td>\n",
       "      <td>2529</td>\n",
       "      <td>3747</td>\n",
       "      <td>3651</td>\n",
       "      <td>2926</td>\n",
       "      <td>5002</td>\n",
       "    </tr>\n",
       "    <tr>\n",
       "      <th>1</th>\n",
       "      <td>CouncilDistrict2</td>\n",
       "      <td>21623</td>\n",
       "      <td>2471</td>\n",
       "      <td>2077</td>\n",
       "      <td>4698</td>\n",
       "      <td>4503</td>\n",
       "      <td>3565</td>\n",
       "      <td>2056</td>\n",
       "      <td>1148</td>\n",
       "      <td>1105</td>\n",
       "      <td>14572</td>\n",
       "      <td>212</td>\n",
       "      <td>370</td>\n",
       "      <td>1700</td>\n",
       "      <td>2311</td>\n",
       "      <td>2311</td>\n",
       "      <td>2511</td>\n",
       "      <td>1916</td>\n",
       "      <td>3241</td>\n",
       "    </tr>\n",
       "    <tr>\n",
       "      <th>2</th>\n",
       "      <td>CouncilDistrict3</td>\n",
       "      <td>38565</td>\n",
       "      <td>1888</td>\n",
       "      <td>1381</td>\n",
       "      <td>5879</td>\n",
       "      <td>10768</td>\n",
       "      <td>8432</td>\n",
       "      <td>5304</td>\n",
       "      <td>2122</td>\n",
       "      <td>2791</td>\n",
       "      <td>14356</td>\n",
       "      <td>335</td>\n",
       "      <td>293</td>\n",
       "      <td>867</td>\n",
       "      <td>1469</td>\n",
       "      <td>1765</td>\n",
       "      <td>1845</td>\n",
       "      <td>1620</td>\n",
       "      <td>6162</td>\n",
       "    </tr>\n",
       "    <tr>\n",
       "      <th>3</th>\n",
       "      <td>CouncilDistrict4</td>\n",
       "      <td>23153</td>\n",
       "      <td>324</td>\n",
       "      <td>1067</td>\n",
       "      <td>4767</td>\n",
       "      <td>6043</td>\n",
       "      <td>5524</td>\n",
       "      <td>2007</td>\n",
       "      <td>1276</td>\n",
       "      <td>2145</td>\n",
       "      <td>12777</td>\n",
       "      <td>67</td>\n",
       "      <td>252</td>\n",
       "      <td>721</td>\n",
       "      <td>1165</td>\n",
       "      <td>1544</td>\n",
       "      <td>1936</td>\n",
       "      <td>1205</td>\n",
       "      <td>5887</td>\n",
       "    </tr>\n",
       "    <tr>\n",
       "      <th>4</th>\n",
       "      <td>CouncilDistrict5</td>\n",
       "      <td>23448</td>\n",
       "      <td>1268</td>\n",
       "      <td>955</td>\n",
       "      <td>4131</td>\n",
       "      <td>7763</td>\n",
       "      <td>4862</td>\n",
       "      <td>1970</td>\n",
       "      <td>1230</td>\n",
       "      <td>1269</td>\n",
       "      <td>16927</td>\n",
       "      <td>130</td>\n",
       "      <td>501</td>\n",
       "      <td>1419</td>\n",
       "      <td>2661</td>\n",
       "      <td>3083</td>\n",
       "      <td>2561</td>\n",
       "      <td>1726</td>\n",
       "      <td>4846</td>\n",
       "    </tr>\n",
       "  </tbody>\n",
       "</table>\n",
       "</div>"
      ]
     },
     "execution_count": 43,
     "metadata": {},
     "output_type": "execute_result"
    }
   ],
   "execution_count": 43
  },
  {
   "metadata": {
    "ExecuteTime": {
     "end_time": "2025-05-08T02:25:03.302801Z",
     "start_time": "2025-05-08T02:25:03.288169Z"
    }
   },
   "cell_type": "code",
   "source": [
    "costs_merge = costs.join(key, on='Neighborhood_Name', how='inner', rsuffix='_alt_key')\n",
    "columns.append('L_HOOD')\n",
    "costs_merge = costs_merge[columns].groupby(\"L_HOOD\").agg(sum)\n",
    "costs_merge.to_csv(\"../data/processed/costs.csv\")"
   ],
   "id": "39bf164b620af367",
   "outputs": [],
   "execution_count": 44
  },
  {
   "metadata": {
    "ExecuteTime": {
     "end_time": "2025-05-08T02:25:03.534385Z",
     "start_time": "2025-05-08T02:25:03.334578Z"
    }
   },
   "cell_type": "code",
   "source": [
    "map_data = gpd.read_file('../data/raw/Neighborhood_Map_Atlas_Districts.geojson')\n",
    "\n",
    "test = map_data.set_index('L_HOOD').join(costs_merge, rsuffix='_costs')"
   ],
   "id": "e7f193642e2cdff1",
   "outputs": [],
   "execution_count": 45
  },
  {
   "metadata": {
    "ExecuteTime": {
     "end_time": "2025-05-08T02:25:03.641811Z",
     "start_time": "2025-05-08T02:25:03.537437Z"
    }
   },
   "cell_type": "code",
   "source": "test.to_file('../data/processed/costs_in_map.geojson', index=True)",
   "id": "52ce1c9a28d8e365",
   "outputs": [],
   "execution_count": 46
  }
 ],
 "metadata": {
  "kernelspec": {
   "display_name": "Python 3",
   "language": "python",
   "name": "python3"
  },
  "language_info": {
   "codemirror_mode": {
    "name": "ipython",
    "version": 2
   },
   "file_extension": ".py",
   "mimetype": "text/x-python",
   "name": "python",
   "nbconvert_exporter": "python",
   "pygments_lexer": "ipython2",
   "version": "2.7.6"
  }
 },
 "nbformat": 4,
 "nbformat_minor": 5
}
