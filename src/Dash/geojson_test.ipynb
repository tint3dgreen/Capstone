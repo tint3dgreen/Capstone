{
 "cells": [
  {
   "metadata": {},
   "cell_type": "code",
   "outputs": [],
   "execution_count": null,
   "source": [
    "import geopandas as gpd\n",
    "import plotly.express as px"
   ],
   "id": "f072982fab5988a"
  },
  {
   "metadata": {},
   "cell_type": "code",
   "outputs": [],
   "execution_count": null,
   "source": [
    "data = gpd.read_file(\"../../data/raw/Neighborhood_Map_Atlas_Districts.geojson\")\n",
    "\n",
    "data.head(30)"
   ],
   "id": "671625afa2612bc2"
  },
  {
   "metadata": {},
   "cell_type": "code",
   "outputs": [],
   "execution_count": null,
   "source": [
    "tmp = data[['L_HOOD',\"S_HOOD_ALT_NAMES\"]]\n",
    "print(tmp)"
   ],
   "id": "43931b4b16ee41a6"
  },
  {
   "metadata": {},
   "cell_type": "code",
   "outputs": [],
   "execution_count": null,
   "source": [
    "tmp['S_HOOD_ALT_NAMES'] = tmp['S_HOOD_ALT_NAMES'].apply(lambda x: str(x).replace(\" \",\"\"))\n",
    "tmp['alt_names_list'] = tmp['S_HOOD_ALT_NAMES'].apply(lambda x: x.split(\",\"))\n",
    "tmp"
   ],
   "id": "ae6661709d018609"
  },
  {
   "metadata": {},
   "cell_type": "code",
   "outputs": [],
   "execution_count": null,
   "source": [
    "tmp = tmp.explode(\"alt_names_list\")\n",
    "tmp.to_csv(\"../../data/processed/Neighborhood_alt_key.csv\")\n",
    "tmp"
   ],
   "id": "d9990956ebc7aea1"
  }
 ],
 "metadata": {
  "kernelspec": {
   "display_name": "Python 3",
   "language": "python",
   "name": "python3"
  },
  "language_info": {
   "codemirror_mode": {
    "name": "ipython",
    "version": 2
   },
   "file_extension": ".py",
   "mimetype": "text/x-python",
   "name": "python",
   "nbconvert_exporter": "python",
   "pygments_lexer": "ipython2",
   "version": "2.7.6"
  }
 },
 "nbformat": 4,
 "nbformat_minor": 5
}
