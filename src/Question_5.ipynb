{
 "cells": [
  {
   "metadata": {},
   "cell_type": "markdown",
   "source": "# Is there a significant difference between the proportion of rent burdened households vs mortgage burdened households?",
   "id": "618da89094daba1d"
  },
  {
   "cell_type": "code",
   "id": "initial_id",
   "metadata": {
    "collapsed": true,
    "ExecuteTime": {
     "end_time": "2025-05-07T01:23:37.962623Z",
     "start_time": "2025-05-07T01:23:37.078585Z"
    }
   },
   "source": [
    "import statsmodels.stats.proportion as stats\n",
    "import pandas as pd\n",
    "import geopandas as gpd\n",
    "\n",
    "rent = gpd.read_file('../data/processed/q1Map_in.geojson')\n",
    "mortgage = pd.read_csv('../data/processed/mortgage_ratio.csv')"
   ],
   "outputs": [
    {
     "name": "stderr",
     "output_type": "stream",
     "text": [
      "ERROR 1: PROJ: proj_create_from_database: Open of /home/colin/anaconda3/envs/capstone/share/proj failed\n"
     ]
    }
   ],
   "execution_count": 1
  },
  {
   "metadata": {
    "ExecuteTime": {
     "end_time": "2025-05-07T01:23:38.053687Z",
     "start_time": "2025-05-07T01:23:38.035847Z"
    }
   },
   "cell_type": "code",
   "source": [
    "mortgage = mortgage[['L_HOOD','Owner_Households','Total_Under_25']]\n",
    "print(mortgage.columns)\n",
    "print(mortgage.shape)"
   ],
   "id": "8f082813cfbc6463",
   "outputs": [
    {
     "name": "stdout",
     "output_type": "stream",
     "text": [
      "Index(['L_HOOD', 'Owner_Households', 'Total_Under_25'], dtype='object')\n",
      "(18, 3)\n"
     ]
    }
   ],
   "execution_count": 2
  },
  {
   "metadata": {
    "ExecuteTime": {
     "end_time": "2025-05-07T01:23:38.492416Z",
     "start_time": "2025-05-07T01:23:38.484847Z"
    }
   },
   "cell_type": "code",
   "source": [
    "rent = rent[['L_HOOD','Renter_Households','Total_under_35']]\n",
    "print(rent.columns)\n",
    "print(rent.shape)"
   ],
   "id": "5a6138321d09fa60",
   "outputs": [
    {
     "name": "stdout",
     "output_type": "stream",
     "text": [
      "Index(['L_HOOD', 'Renter_Households', 'Total_under_35'], dtype='object')\n",
      "(20, 3)\n"
     ]
    }
   ],
   "execution_count": 3
  },
  {
   "metadata": {
    "ExecuteTime": {
     "end_time": "2025-05-07T01:23:38.716318Z",
     "start_time": "2025-05-07T01:23:38.692121Z"
    }
   },
   "cell_type": "code",
   "source": [
    "merged = pd.merge(rent, mortgage, on='L_HOOD')\n",
    "merged.head()"
   ],
   "id": "405347bf2201e9de",
   "outputs": [
    {
     "data": {
      "text/plain": [
       "         L_HOOD  Renter_Households  Total_under_35  Owner_Households  \\\n",
       "0       Ballard            16025.0          9496.0              9270   \n",
       "1   Beacon Hill             1647.0           666.0              1651   \n",
       "2  Capitol Hill             7812.0          4764.0              6184   \n",
       "3       Cascade            10459.0          7052.0              1323   \n",
       "4  Central Area             1829.0           851.0               508   \n",
       "\n",
       "   Total_Under_25  \n",
       "0            4835  \n",
       "1             591  \n",
       "2            2795  \n",
       "3             616  \n",
       "4             157  "
      ],
      "text/html": [
       "<div>\n",
       "<style scoped>\n",
       "    .dataframe tbody tr th:only-of-type {\n",
       "        vertical-align: middle;\n",
       "    }\n",
       "\n",
       "    .dataframe tbody tr th {\n",
       "        vertical-align: top;\n",
       "    }\n",
       "\n",
       "    .dataframe thead th {\n",
       "        text-align: right;\n",
       "    }\n",
       "</style>\n",
       "<table border=\"1\" class=\"dataframe\">\n",
       "  <thead>\n",
       "    <tr style=\"text-align: right;\">\n",
       "      <th></th>\n",
       "      <th>L_HOOD</th>\n",
       "      <th>Renter_Households</th>\n",
       "      <th>Total_under_35</th>\n",
       "      <th>Owner_Households</th>\n",
       "      <th>Total_Under_25</th>\n",
       "    </tr>\n",
       "  </thead>\n",
       "  <tbody>\n",
       "    <tr>\n",
       "      <th>0</th>\n",
       "      <td>Ballard</td>\n",
       "      <td>16025.0</td>\n",
       "      <td>9496.0</td>\n",
       "      <td>9270</td>\n",
       "      <td>4835</td>\n",
       "    </tr>\n",
       "    <tr>\n",
       "      <th>1</th>\n",
       "      <td>Beacon Hill</td>\n",
       "      <td>1647.0</td>\n",
       "      <td>666.0</td>\n",
       "      <td>1651</td>\n",
       "      <td>591</td>\n",
       "    </tr>\n",
       "    <tr>\n",
       "      <th>2</th>\n",
       "      <td>Capitol Hill</td>\n",
       "      <td>7812.0</td>\n",
       "      <td>4764.0</td>\n",
       "      <td>6184</td>\n",
       "      <td>2795</td>\n",
       "    </tr>\n",
       "    <tr>\n",
       "      <th>3</th>\n",
       "      <td>Cascade</td>\n",
       "      <td>10459.0</td>\n",
       "      <td>7052.0</td>\n",
       "      <td>1323</td>\n",
       "      <td>616</td>\n",
       "    </tr>\n",
       "    <tr>\n",
       "      <th>4</th>\n",
       "      <td>Central Area</td>\n",
       "      <td>1829.0</td>\n",
       "      <td>851.0</td>\n",
       "      <td>508</td>\n",
       "      <td>157</td>\n",
       "    </tr>\n",
       "  </tbody>\n",
       "</table>\n",
       "</div>"
      ]
     },
     "execution_count": 4,
     "metadata": {},
     "output_type": "execute_result"
    }
   ],
   "execution_count": 4
  },
  {
   "metadata": {
    "ExecuteTime": {
     "end_time": "2025-05-07T01:46:55.057554Z",
     "start_time": "2025-05-07T01:46:54.950046Z"
    }
   },
   "cell_type": "code",
   "source": [
    "from statsmodels.stats.proportion import proportions_ztest\n",
    "alpha = 0.05\n",
    "sig = pd.DataFrame(columns=[\"Neighborhood\",\"Difference\",\"Significant\"])\n",
    "\n",
    "for index,row in merged.iterrows():\n",
    "    # renter proportion - homeowner proportion\n",
    "    difference = (row['Total_under_35']/row['Renter_Households']) - (row['Total_Under_25']/row['Owner_Households'])\n",
    "\n",
    "    success = [row['Total_under_35'],row['Total_Under_25']]\n",
    "    attampts = [row['Renter_Households'],row['Owner_Households']]\n",
    "    # proportion_ztest([Array of successes], [Array of attemps])\n",
    "    z_score, p_value = proportions_ztest(success,attampts)\n",
    "    sig.loc[len(sig)] = [row['L_HOOD'],difference,(p_value < 0.05)]\n",
    "    print(f\"{row['L_HOOD']}: {p_value}\")\n",
    "sig"
   ],
   "id": "b9039454e5d50ba0",
   "outputs": [
    {
     "name": "stdout",
     "output_type": "stream",
     "text": [
      "Ballard: 4.790435929388905e-28\n",
      "Beacon Hill: 0.006075018280392457\n",
      "Capitol Hill: 2.7425984369737735e-77\n",
      "Cascade: 7.439390355117222e-51\n",
      "Central Area: 3.180812681480587e-10\n",
      "Delridge: 7.056896644982367e-36\n",
      "Downtown: 9.238952952574035e-16\n",
      "Interbay: 3.992250084526412e-143\n",
      "Greater Duwamish: 2.1138925130348556e-10\n",
      "Northeast: 0.00410870260052756\n",
      "Northgate: 9.87536747868575e-38\n",
      "Queen Anne: 1.2608049835865371e-58\n",
      "Rainier Valley: 0.44909513243355303\n",
      "Seward Park: 3.0082895862301163e-12\n",
      "West Seattle: 5.371756725440816e-16\n",
      "Northwest: 3.004628592194978e-08\n",
      "North Central: 2.079277813067461e-10\n",
      "University District: 5.379768475971336e-06\n"
     ]
    },
    {
     "data": {
      "text/plain": [
       "           Neighborhood  Difference  Significant\n",
       "0               Ballard    0.070999         True\n",
       "1           Beacon Hill    0.046407         True\n",
       "2          Capitol Hill    0.157858         True\n",
       "3               Cascade    0.208643         True\n",
       "4          Central Area    0.156226         True\n",
       "5              Delridge   -0.103224         True\n",
       "6              Downtown    0.073182         True\n",
       "7              Interbay    0.327918         True\n",
       "8      Greater Duwamish   -0.104483         True\n",
       "9             Northeast   -0.072393         True\n",
       "10            Northgate    0.133497         True\n",
       "11           Queen Anne    0.212089         True\n",
       "12       Rainier Valley   -0.005239        False\n",
       "13          Seward Park    0.121058         True\n",
       "14         West Seattle    0.078228         True\n",
       "15            Northwest    0.074672         True\n",
       "16        North Central    0.033808         True\n",
       "17  University District   -0.052761         True"
      ],
      "text/html": [
       "<div>\n",
       "<style scoped>\n",
       "    .dataframe tbody tr th:only-of-type {\n",
       "        vertical-align: middle;\n",
       "    }\n",
       "\n",
       "    .dataframe tbody tr th {\n",
       "        vertical-align: top;\n",
       "    }\n",
       "\n",
       "    .dataframe thead th {\n",
       "        text-align: right;\n",
       "    }\n",
       "</style>\n",
       "<table border=\"1\" class=\"dataframe\">\n",
       "  <thead>\n",
       "    <tr style=\"text-align: right;\">\n",
       "      <th></th>\n",
       "      <th>Neighborhood</th>\n",
       "      <th>Difference</th>\n",
       "      <th>Significant</th>\n",
       "    </tr>\n",
       "  </thead>\n",
       "  <tbody>\n",
       "    <tr>\n",
       "      <th>0</th>\n",
       "      <td>Ballard</td>\n",
       "      <td>0.070999</td>\n",
       "      <td>True</td>\n",
       "    </tr>\n",
       "    <tr>\n",
       "      <th>1</th>\n",
       "      <td>Beacon Hill</td>\n",
       "      <td>0.046407</td>\n",
       "      <td>True</td>\n",
       "    </tr>\n",
       "    <tr>\n",
       "      <th>2</th>\n",
       "      <td>Capitol Hill</td>\n",
       "      <td>0.157858</td>\n",
       "      <td>True</td>\n",
       "    </tr>\n",
       "    <tr>\n",
       "      <th>3</th>\n",
       "      <td>Cascade</td>\n",
       "      <td>0.208643</td>\n",
       "      <td>True</td>\n",
       "    </tr>\n",
       "    <tr>\n",
       "      <th>4</th>\n",
       "      <td>Central Area</td>\n",
       "      <td>0.156226</td>\n",
       "      <td>True</td>\n",
       "    </tr>\n",
       "    <tr>\n",
       "      <th>5</th>\n",
       "      <td>Delridge</td>\n",
       "      <td>-0.103224</td>\n",
       "      <td>True</td>\n",
       "    </tr>\n",
       "    <tr>\n",
       "      <th>6</th>\n",
       "      <td>Downtown</td>\n",
       "      <td>0.073182</td>\n",
       "      <td>True</td>\n",
       "    </tr>\n",
       "    <tr>\n",
       "      <th>7</th>\n",
       "      <td>Interbay</td>\n",
       "      <td>0.327918</td>\n",
       "      <td>True</td>\n",
       "    </tr>\n",
       "    <tr>\n",
       "      <th>8</th>\n",
       "      <td>Greater Duwamish</td>\n",
       "      <td>-0.104483</td>\n",
       "      <td>True</td>\n",
       "    </tr>\n",
       "    <tr>\n",
       "      <th>9</th>\n",
       "      <td>Northeast</td>\n",
       "      <td>-0.072393</td>\n",
       "      <td>True</td>\n",
       "    </tr>\n",
       "    <tr>\n",
       "      <th>10</th>\n",
       "      <td>Northgate</td>\n",
       "      <td>0.133497</td>\n",
       "      <td>True</td>\n",
       "    </tr>\n",
       "    <tr>\n",
       "      <th>11</th>\n",
       "      <td>Queen Anne</td>\n",
       "      <td>0.212089</td>\n",
       "      <td>True</td>\n",
       "    </tr>\n",
       "    <tr>\n",
       "      <th>12</th>\n",
       "      <td>Rainier Valley</td>\n",
       "      <td>-0.005239</td>\n",
       "      <td>False</td>\n",
       "    </tr>\n",
       "    <tr>\n",
       "      <th>13</th>\n",
       "      <td>Seward Park</td>\n",
       "      <td>0.121058</td>\n",
       "      <td>True</td>\n",
       "    </tr>\n",
       "    <tr>\n",
       "      <th>14</th>\n",
       "      <td>West Seattle</td>\n",
       "      <td>0.078228</td>\n",
       "      <td>True</td>\n",
       "    </tr>\n",
       "    <tr>\n",
       "      <th>15</th>\n",
       "      <td>Northwest</td>\n",
       "      <td>0.074672</td>\n",
       "      <td>True</td>\n",
       "    </tr>\n",
       "    <tr>\n",
       "      <th>16</th>\n",
       "      <td>North Central</td>\n",
       "      <td>0.033808</td>\n",
       "      <td>True</td>\n",
       "    </tr>\n",
       "    <tr>\n",
       "      <th>17</th>\n",
       "      <td>University District</td>\n",
       "      <td>-0.052761</td>\n",
       "      <td>True</td>\n",
       "    </tr>\n",
       "  </tbody>\n",
       "</table>\n",
       "</div>"
      ]
     },
     "execution_count": 14,
     "metadata": {},
     "output_type": "execute_result"
    }
   ],
   "execution_count": 14
  }
 ],
 "metadata": {
  "kernelspec": {
   "display_name": "Python 3",
   "language": "python",
   "name": "python3"
  },
  "language_info": {
   "codemirror_mode": {
    "name": "ipython",
    "version": 2
   },
   "file_extension": ".py",
   "mimetype": "text/x-python",
   "name": "python",
   "nbconvert_exporter": "python",
   "pygments_lexer": "ipython2",
   "version": "2.7.6"
  }
 },
 "nbformat": 4,
 "nbformat_minor": 5
}
